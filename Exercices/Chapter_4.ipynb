{
  "nbformat": 4,
  "nbformat_minor": 0,
  "metadata": {
    "kernelspec": {
      "display_name": "Python 3",
      "language": "python",
      "name": "python3"
    },
    "language_info": {
      "codemirror_mode": {
        "name": "ipython",
        "version": 3
      },
      "file_extension": ".py",
      "mimetype": "text/x-python",
      "name": "python",
      "nbconvert_exporter": "python",
      "pygments_lexer": "ipython3",
      "version": "3.7.5"
    },
    "colab": {
      "name": "Chapter 4.ipynb",
      "provenance": [],
      "collapsed_sections": [
        "WvAkE_iZC0Ay",
        "ct2kFtXvJIak"
      ]
    }
  },
  "cells": [
    {
      "cell_type": "markdown",
      "metadata": {
        "id": "WvAkE_iZC0Ay"
      },
      "source": [
        "#Training Models"
      ]
    },
    {
      "cell_type": "markdown",
      "metadata": {
        "id": "ct2kFtXvJIak"
      },
      "source": [
        "##Linear Regression"
      ]
    },
    {
      "cell_type": "code",
      "metadata": {
        "id": "FSs34tluJM8m"
      },
      "source": [
        "import numpy  as np\n",
        "x = 2*np.random.rand(100,1)\n",
        "y = 4 + 3*x + np.random.rand(100,1)"
      ],
      "execution_count": 2,
      "outputs": []
    },
    {
      "cell_type": "code",
      "metadata": {
        "colab": {
          "base_uri": "https://localhost:8080/"
        },
        "id": "Gk4Sckl7Jdnb",
        "outputId": "e03edc40-4fb9-4cf3-8092-e964949c8839"
      },
      "source": [
        "X_b = np.c_[np.ones((100,1)), x]\n",
        "theta_best = np.linalg.inv(X_b.T.dot(X_b)).dot(X_b.T).dot(y)\n",
        "theta_best"
      ],
      "execution_count": 3,
      "outputs": [
        {
          "output_type": "execute_result",
          "data": {
            "text/plain": [
              "array([[4.46761541],\n",
              "       [3.00563013]])"
            ]
          },
          "metadata": {},
          "execution_count": 3
        }
      ]
    },
    {
      "cell_type": "code",
      "metadata": {
        "id": "krLnb9i3MMl2"
      },
      "source": [
        "X_new = np.array([[0],[2]])"
      ],
      "execution_count": 5,
      "outputs": []
    },
    {
      "cell_type": "code",
      "metadata": {
        "id": "jHZWYnZBMrYv"
      },
      "source": [
        "X_new_b = np.c_[np.ones((2,1)), X_new]"
      ],
      "execution_count": 6,
      "outputs": []
    },
    {
      "cell_type": "code",
      "metadata": {
        "id": "IZNbf16RM2Gr"
      },
      "source": [
        "y_predict = X_new_b.dot(theta_best)"
      ],
      "execution_count": 7,
      "outputs": []
    },
    {
      "cell_type": "code",
      "metadata": {
        "colab": {
          "base_uri": "https://localhost:8080/"
        },
        "id": "T3cY-8OEM7qJ",
        "outputId": "b4914653-f787-429d-f164-cfa64dcc5b9f"
      },
      "source": [
        "y_predict"
      ],
      "execution_count": 8,
      "outputs": [
        {
          "output_type": "execute_result",
          "data": {
            "text/plain": [
              "array([[ 4.46761541],\n",
              "       [10.47887567]])"
            ]
          },
          "metadata": {},
          "execution_count": 8
        }
      ]
    },
    {
      "cell_type": "code",
      "metadata": {
        "colab": {
          "base_uri": "https://localhost:8080/",
          "height": 265
        },
        "id": "Md1I2e--NAJe",
        "outputId": "32d47464-8ac8-4ee2-8fd6-5138efb48ad7"
      },
      "source": [
        "import matplotlib.pyplot as plt\n",
        "\n",
        "plt.plot(X_new, y_predict, \"r-\")\n",
        "plt.plot(x, y, \"b.\")\n",
        "plt.axis([0,2,0,15])\n",
        "plt.show()"
      ],
      "execution_count": 10,
      "outputs": [
        {
          "output_type": "display_data",
          "data": {
            "image/png": "[encoded data removed]",
            "text/plain": [
              "<Figure size 432x288 with 1 Axes>"
            ]
          },
          "metadata": {
            "needs_background": "light"
          }
        }
      ]
    },
    {
      "cell_type": "code",
      "metadata": {
        "colab": {
          "base_uri": "https://localhost:8080/"
        },
        "id": "lD1WcgMDNdqj",
        "outputId": "c8a91109-4059-4317-f37e-268892239b21"
      },
      "source": [
        "from sklearn.linear_model import LinearRegression\n",
        "lin_reg = LinearRegression()\n",
        "lin_reg.fit(x, y)\n",
        "lin_reg.intercept_, lin_reg.coef_"
      ],
      "execution_count": 11,
      "outputs": [
        {
          "output_type": "execute_result",
          "data": {
            "text/plain": [
              "(array([4.46761541]), array([[3.00563013]]))"
            ]
          },
          "metadata": {},
          "execution_count": 11
        }
      ]
    },
    {
      "cell_type": "code",
      "metadata": {
        "colab": {
          "base_uri": "https://localhost:8080/"
        },
        "id": "0sBYOvTvOXHx",
        "outputId": "1c6b1ec1-d632-4110-e3be-0e18b89366e0"
      },
      "source": [
        "lin_reg.predict(X_new)"
      ],
      "execution_count": 12,
      "outputs": [
        {
          "output_type": "execute_result",
          "data": {
            "text/plain": [
              "array([[ 4.46761541],\n",
              "       [10.47887567]])"
            ]
          },
          "metadata": {},
          "execution_count": 12
        }
      ]
    },
    {
      "cell_type": "markdown",
      "metadata": {
        "id": "FptKJDnLXaST"
      },
      "source": [
        "Least squares"
      ]
    },
    {
      "cell_type": "code",
      "metadata": {
        "colab": {
          "base_uri": "https://localhost:8080/"
        },
        "id": "W0XCl9XXObp_",
        "outputId": "7e2bc890-367d-4cbc-ac1c-be172e4d3891"
      },
      "source": [
        "theta_best_svd, residuals, rank, s = np.linalg.lstsq(X_b, y, rcond=1e-6)\n",
        "theta_best_svd"
      ],
      "execution_count": 13,
      "outputs": [
        {
          "output_type": "execute_result",
          "data": {
            "text/plain": [
              "array([[4.46761541],\n",
              "       [3.00563013]])"
            ]
          },
          "metadata": {},
          "execution_count": 13
        }
      ]
    },
    {
      "cell_type": "markdown",
      "metadata": {
        "id": "XwgXa7W3XSNG"
      },
      "source": [
        "Pseudoinverse matrix"
      ]
    },
    {
      "cell_type": "code",
      "metadata": {
        "colab": {
          "base_uri": "https://localhost:8080/"
        },
        "id": "BnDe2U74O_YK",
        "outputId": "f1419469-f844-490f-fd61-cc5f384094aa"
      },
      "source": [
        "np.linalg.pinv(X_b).dot(y)"
      ],
      "execution_count": 14,
      "outputs": [
        {
          "output_type": "execute_result",
          "data": {
            "text/plain": [
              "array([[4.46761541],\n",
              "       [3.00563013]])"
            ]
          },
          "metadata": {},
          "execution_count": 14
        }
      ]
    }
  ]
}